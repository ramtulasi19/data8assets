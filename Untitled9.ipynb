{
  "nbformat": 4,
  "nbformat_minor": 0,
  "metadata": {
    "colab": {
      "name": "Untitled9.ipynb",
      "provenance": [],
      "authorship_tag": "ABX9TyOj384CGTxWGpDTJCVqiOcQ",
      "include_colab_link": true
    },
    "kernelspec": {
      "name": "python3",
      "display_name": "Python 3"
    }
  },
  "cells": [
    {
      "cell_type": "markdown",
      "metadata": {
        "id": "view-in-github",
        "colab_type": "text"
      },
      "source": [
        "<a href=\"https://colab.research.google.com/github/ramtulasi19/data8assets/blob/gh-pages/Untitled9.ipynb\" target=\"_parent\"><img src=\"https://colab.research.google.com/assets/colab-badge.svg\" alt=\"Open In Colab\"/></a>"
      ]
    },
    {
      "cell_type": "code",
      "metadata": {
        "id": "qYza6REJlv36"
      },
      "source": [
        "# importing pandas module  \n",
        "import pandas as pd \n",
        "  \n",
        "# importing module for regex \n",
        "import re \n",
        "# importing numpy module \n",
        "import numpy as np\n",
        "# importing P=mathplot lib\n",
        "import matplotlib.pyplot as plt\n",
        "# reading csv file from url  \n",
        "data = pd.read_csv(\"/content/clean_tweets.csv\") \n"
      ],
      "execution_count": 23,
      "outputs": []
    },
    {
      "cell_type": "code",
      "metadata": {
        "id": "FAwepK2gmD6w"
      },
      "source": [
        "# count of occurrence of each team mentions and creating new column \n",
        "data[\"count1\"]= data[\"tweet_text\"].str.count(\"csk\", re.I) \n",
        "data[\"count2\"]= data[\"tweet_text\"].str.count( \"DC\", re.I) \n",
        "data[\"count3\"]= data[\"tweet_text\"].str.count( \"KXIP\", re.I) \n",
        "data[\"count4\"]= data[\"tweet_text\"].str.count( \"KKR\", re.I) \n",
        "data[\"count5\"]= data[\"tweet_text\"].str.count( \"MI\", re.I) \n",
        "data[\"count6\"]= data[\"tweet_text\"].str.count( \"RR\", re.I) \n",
        "data[\"count7\"]= data[\"tweet_text\"].str.count( \"RCB\", re.I) \n",
        "data[\"count8\"]= data[\"tweet_text\"].str.count( \"SRH\", re.I) "
      ],
      "execution_count": 24,
      "outputs": []
    },
    {
      "cell_type": "code",
      "metadata": {
        "id": "suBuTK8omNAs"
      },
      "source": [
        "# count of occurrence of each team mention with their state name and creating new column \n",
        "data[\"count11\"]= data[\"tweet_text\"].str.count(\"Chennai\", re.I) \n",
        "data[\"count22\"]= data[\"tweet_text\"].str.count( \"Delhi\", re.I) \n",
        "data[\"count33\"]= data[\"tweet_text\"].str.count( \"Punjab\", re.I) \n",
        "data[\"count44\"]= data[\"tweet_text\"].str.count( \"Kolkata\", re.I) \n",
        "data[\"count55\"]= data[\"tweet_text\"].str.count( \"Mumbai\", re.I) \n",
        "data[\"count66\"]= data[\"tweet_text\"].str.count( \"Rajasthan\", re.I) \n",
        "data[\"count77\"]= data[\"tweet_text\"].str.count( \"Bangalore\", re.I) \n",
        "data[\"count88\"]= data[\"tweet_text\"].str.count( \"Hyderabad\", re.I)"
      ],
      "execution_count": 25,
      "outputs": []
    },
    {
      "cell_type": "code",
      "metadata": {
        "id": "aGozFtu6mOjL"
      },
      "source": [
        "#aggrigating the total mentions\n",
        "data[\"csk\"] = data[\"count1\"] + data[\"count11\"]\n",
        "data[\"DC\"] = data[\"count2\"] + data[\"count22\"]\n",
        "data[\"KXIP\"]= data[\"count3\"] + data[\"count33\"]\n",
        "data[\"KKR\"]= data[\"count4\"] + data[\"count44\"]\n",
        "data[\"MI\"]= data[\"count5\"] + data[\"count55\"]\n",
        "data[\"RR\"]= data[\"count6\"] + data[\"count66\"]\n",
        "data[\"RCB\"]= data[\"count7\"] + data[\"count77\"]\n",
        "data[\"SRH\"]= data[\"count8\"] + data[\"count88\"]\n",
        "\n"
      ],
      "execution_count": 26,
      "outputs": []
    },
    {
      "cell_type": "code",
      "metadata": {
        "id": "tSvjSiFanC2W"
      },
      "source": [
        "#dropping the previous count coloumns to clean the dataframe\n",
        "data1=data.drop(['count1', 'count11','count2','count22','count3','count33','count4','count44','count5','count55','count6','count66','count7','count77','count8','count88'], axis=1)"
      ],
      "execution_count": 28,
      "outputs": []
    },
    {
      "cell_type": "code",
      "metadata": {
        "id": "yItJNvAxn1bH"
      },
      "source": [
        "#aggrigating the total mentions team wise and saving the results to a dictionary\n",
        "ict = data1.sum(axis = 0, skipna = True) "
      ],
      "execution_count": 30,
      "outputs": []
    },
    {
      "cell_type": "code",
      "metadata": {
        "id": "puXziHjGohSR",
        "outputId": "67bda7af-55d9-409b-ab65-df10c187c277",
        "colab": {
          "base_uri": "https://localhost:8080/"
        }
      },
      "source": [
        "dict"
      ],
      "execution_count": 31,
      "outputs": [
        {
          "output_type": "execute_result",
          "data": {
            "text/plain": [
              "Unnamed: 0                                               499500\n",
              "tweet_text    bdropping shami wc semissaini yesterday match ...\n",
              "csk                                                         120\n",
              "DC                                                          794\n",
              "KXIP                                                         47\n",
              "KKR                                                         202\n",
              "MI                                                          738\n",
              "RR                                                          143\n",
              "RCB                                                        1012\n",
              "SRH                                                         375\n",
              "dtype: object"
            ]
          },
          "metadata": {
            "tags": []
          },
          "execution_count": 31
        }
      ]
    },
    {
      "cell_type": "code",
      "metadata": {
        "id": "t6jopBCknuqx",
        "outputId": "422a8b7b-9d30-4641-8769-a30ee2e0debb",
        "colab": {
          "base_uri": "https://localhost:8080/"
        }
      },
      "source": [
        "#saving the values to an array to use the results to plot\n",
        "y= dict.values\n",
        "z =np.delete(y, 0, 0)\n",
        "o =np.delete(z, 0, 0)\n",
        "o.tolist()"
      ],
      "execution_count": 32,
      "outputs": [
        {
          "output_type": "execute_result",
          "data": {
            "text/plain": [
              "[120, 794, 47, 202, 738, 143, 1012, 375]"
            ]
          },
          "metadata": {
            "tags": []
          },
          "execution_count": 32
        }
      ]
    },
    {
      "cell_type": "code",
      "metadata": {
        "id": "h2JK3_77otfF",
        "outputId": "098c837f-2861-4d30-987c-a48978874b5c",
        "colab": {
          "base_uri": "https://localhost:8080/",
          "height": 336
        }
      },
      "source": [
        "#plotting the results\n",
        "fig = plt.figure()\n",
        "ax = fig.add_axes([0,0,1,1])\n",
        "q = [\"CSK\" , \"DC\",\"KXIP\", \"KKR\",\"MI\",\"RR\",\"RCB\",\"SRH\"]\n",
        "ax.bar(q,o)\n",
        "plt.show()"
      ],
      "execution_count": 33,
      "outputs": [
        {
          "output_type": "display_data",
          "data": {
            "image/png": "[encoded data removed]",
            "text/plain": [
              "<Figure size 432x288 with 1 Axes>"
            ]
          },
          "metadata": {
            "tags": [],
            "needs_background": "light"
          }
        }
      ]
    },
    {
      "cell_type": "markdown",
      "metadata": {
        "id": "DAzBSVnop9mC"
      },
      "source": [
        "We can clearly see that more people are talking about **RCB (Royal Challengers Bangalore)** team. Followed by** Delhi Capitals (DC)** and **Mumbai Indians (MI)**"
      ]
    }
  ]
}